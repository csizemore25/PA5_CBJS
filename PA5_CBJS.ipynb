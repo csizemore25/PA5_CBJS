{
 "cells": [
  {
   "cell_type": "markdown",
   "id": "bdfcd141",
   "metadata": {},
   "source": [
    "# Programming Assignment 5"
   ]
  },
  {
   "cell_type": "markdown",
   "id": "c723f227",
   "metadata": {},
   "source": [
    "## Caitlin Sizemore"
   ]
  },
  {
   "cell_type": "markdown",
   "id": "f7632faf",
   "metadata": {},
   "source": [
    "### Version 1 \n",
    "\n",
    "### CS150-01 Fall 2022"
   ]
  },
  {
   "cell_type": "code",
   "execution_count": 63,
   "id": "c1da492a",
   "metadata": {
    "scrolled": true
   },
   "outputs": [
    {
     "name": "stdout",
     "output_type": "stream",
     "text": [
      "Enter a word to translate from English to Spanish (enter 0 to stop): beach\n",
      "The Spanish word for  beach  is playa\n",
      "Enter a word to translate from English to Spanish (enter 0 to stop): scarf\n",
      "The Spanish word for  scarf  is bufanda\n",
      "Enter a word to translate from English to Spanish (enter 0 to stop): cat\n",
      "The Spanish word for  cat  is gato\n",
      "Enter a word to translate from English to Spanish (enter 0 to stop): 0\n"
     ]
    }
   ],
   "source": [
    "translator={\n",
    "    'hello' : 'hola', \n",
    "    'goodbye' : 'adios', \n",
    "    'milk' : 'leche',\n",
    "    'chair' : 'silla', \n",
    "    'table' : 'mesa', \n",
    "    'house' : 'casa', \n",
    "    'one' : 'uno', \n",
    "    'cat' : 'gato', \n",
    "    'dog' : 'perro', \n",
    "    'two' : 'dos', \n",
    "    'butterfly' : 'mariposa', \n",
    "    'library' : 'biblioteca', \n",
    "    'computer' : 'computadora',\n",
    "    'microwave' : 'microondas',\n",
    "    'mirror' : 'espejo', \n",
    "    'blanket' : 'cobija', \n",
    "    'scarf' : 'bufanda', \n",
    "    'beach' : 'playa', \n",
    "    'rhythm' : 'ritmo', \n",
    "    'purse' : 'cartera'}\n",
    "\n",
    "for english, spanish in translator.items(): \n",
    "    english=input(\"Enter a word to translate from English to Spanish (enter 0 to stop): \")\n",
    "    if english=='0': \n",
    "        break\n",
    "    else: \n",
    "        print(\"The Spanish word for \", english, \" is\", translator[english])"
   ]
  },
  {
   "cell_type": "code",
   "execution_count": 89,
   "id": "359537ec",
   "metadata": {
    "scrolled": true
   },
   "outputs": [
    {
     "name": "stdout",
     "output_type": "stream",
     "text": [
      "{1: 23.88888888888889, 2: 23.333333333333336, 3: 24.444444444444446, 4: 23.333333333333336, 5: 24.444444444444446, 6: 25.0, 7: 27.77777777777778, 8: 26.666666666666668, 9: 23.333333333333336, 10: 23.88888888888889}\n"
     ]
    }
   ],
   "source": [
    "temp={1:75, 2:74, 3:76, 4:74, 5:76, 6:77, 7:82, 8:80, 9:74, 10:75}\n",
    "for day,f in temp.items(): \n",
    "    c=(5/9)*(f-32)\n",
    "    temp[day]=c\n",
    "print(temp)       "
   ]
  },
  {
   "cell_type": "code",
   "execution_count": 68,
   "id": "310ce16a",
   "metadata": {},
   "outputs": [
    {
     "name": "stdout",
     "output_type": "stream",
     "text": [
      "{1: 1, 2: 4, 3: 9, 4: 16, 5: 25, 6: 36, 7: 49, 8: 64, 9: 81, 10: 100, 11: 121, 12: 144, 13: 169, 14: 196, 15: 225}\n"
     ]
    }
   ],
   "source": [
    "squared={}\n",
    "for n in range(1,16): \n",
    "    squared[n]=n**2\n",
    "\n",
    "print(squared)"
   ]
  }
 ],
 "metadata": {
  "kernelspec": {
   "display_name": "Python 3 (ipykernel)",
   "language": "python",
   "name": "python3"
  },
  "language_info": {
   "codemirror_mode": {
    "name": "ipython",
    "version": 3
   },
   "file_extension": ".py",
   "mimetype": "text/x-python",
   "name": "python",
   "nbconvert_exporter": "python",
   "pygments_lexer": "ipython3",
   "version": "3.9.12"
  }
 },
 "nbformat": 4,
 "nbformat_minor": 5
}
